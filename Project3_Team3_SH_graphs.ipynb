{
 "cells": [
  {
   "cell_type": "code",
   "execution_count": 58,
   "id": "3478a6f4",
   "metadata": {},
   "outputs": [
    {
     "name": "stdout",
     "output_type": "stream",
     "text": [
      "<class 'pandas.core.frame.DataFrame'>\n",
      "RangeIndex: 200 entries, 0 to 199\n",
      "Data columns (total 7 columns):\n",
      " #   Column         Non-Null Count  Dtype  \n",
      "---  ------         --------------  -----  \n",
      " 0   Rank           200 non-null    int64  \n",
      " 1   Release Group  200 non-null    object \n",
      " 2   Worldwide      200 non-null    int64  \n",
      " 3   Domestic       122 non-null    float64\n",
      " 4   %              200 non-null    object \n",
      " 5   Foreign        200 non-null    object \n",
      " 6   %.1            200 non-null    object \n",
      "dtypes: float64(1), int64(2), object(4)\n",
      "memory usage: 11.1+ KB\n"
     ]
    },
    {
     "name": "stderr",
     "output_type": "stream",
     "text": [
      "C:\\Users\\sylhu\\AppData\\Local\\Temp\\ipykernel_12280\\3133726622.py:5: FutureWarning: The default value of regex will change from True to False in a future version. In addition, single character regular expressions will *not* be treated as literal strings when regex=True.\n",
      "  worldwide_200['Domestic'] = worldwide_200['Domestic'].str.replace('$', '')\n"
     ]
    }
   ],
   "source": [
    "# Convert 'Domestic' & 'Foreign' columns to float, nan values cannot be converted to integer.\n",
    "\n",
    "# 'Domestic' column\n",
    "worldwide_200['Domestic'] = worldwide_200['Domestic'].str.replace(',', '')\n",
    "worldwide_200['Domestic'] = worldwide_200['Domestic'].str.replace('$', '')\n",
    "\n",
    "domestic_list = worldwide_200['Domestic'].values.tolist()\n",
    "\n",
    "new_list = []\n",
    "for i in range(len(domestic_list)):\n",
    "    if domestic_list[i] == '-':\n",
    "        new_list.append(np.nan)\n",
    "    else:\n",
    "        new_list.append(int(domestic_list[i]))\n",
    "\n",
    "worldwide_200['Domestic'] = new_list\n",
    "\n",
    "worldwide_200.info()"
   ]
  },
  {
   "cell_type": "code",
   "execution_count": 59,
   "id": "1ebea863",
   "metadata": {},
   "outputs": [
    {
     "name": "stdout",
     "output_type": "stream",
     "text": [
      "<class 'pandas.core.frame.DataFrame'>\n",
      "RangeIndex: 200 entries, 0 to 199\n",
      "Data columns (total 7 columns):\n",
      " #   Column         Non-Null Count  Dtype  \n",
      "---  ------         --------------  -----  \n",
      " 0   Rank           200 non-null    int64  \n",
      " 1   Release Group  200 non-null    object \n",
      " 2   Worldwide      200 non-null    int64  \n",
      " 3   Domestic       122 non-null    float64\n",
      " 4   %              200 non-null    object \n",
      " 5   Foreign        194 non-null    float64\n",
      " 6   %.1            200 non-null    object \n",
      "dtypes: float64(2), int64(2), object(3)\n",
      "memory usage: 11.1+ KB\n"
     ]
    },
    {
     "name": "stderr",
     "output_type": "stream",
     "text": [
      "C:\\Users\\sylhu\\AppData\\Local\\Temp\\ipykernel_12280\\3921778924.py:3: FutureWarning: The default value of regex will change from True to False in a future version. In addition, single character regular expressions will *not* be treated as literal strings when regex=True.\n",
      "  worldwide_200['Foreign'] = worldwide_200['Foreign'].str.replace('$', '')\n"
     ]
    }
   ],
   "source": [
    "# 'Foreign' column\n",
    "worldwide_200['Foreign'] = worldwide_200['Foreign'].str.replace(',', '')\n",
    "worldwide_200['Foreign'] = worldwide_200['Foreign'].str.replace('$', '')\n",
    "\n",
    "foreign_list = worldwide_200['Foreign'].values.tolist()\n",
    "\n",
    "new_list = []\n",
    "for i in range(len(foreign_list)):\n",
    "    if foreign_list[i] == '-':\n",
    "        new_list.append(np.nan)\n",
    "    else:\n",
    "        new_list.append(int(foreign_list[i]))\n",
    "\n",
    "worldwide_200['Foreign'] = new_list\n",
    "\n",
    "worldwide_200.info()"
   ]
  },
  {
   "cell_type": "code",
   "execution_count": 60,
   "id": "09b39b00",
   "metadata": {},
   "outputs": [
    {
     "data": {
      "text/html": [
       "<div>\n",
       "<style scoped>\n",
       "    .dataframe tbody tr th:only-of-type {\n",
       "        vertical-align: middle;\n",
       "    }\n",
       "\n",
       "    .dataframe tbody tr th {\n",
       "        vertical-align: top;\n",
       "    }\n",
       "\n",
       "    .dataframe thead th {\n",
       "        text-align: right;\n",
       "    }\n",
       "</style>\n",
       "<table border=\"1\" class=\"dataframe\">\n",
       "  <thead>\n",
       "    <tr style=\"text-align: right;\">\n",
       "      <th></th>\n",
       "      <th>%</th>\n",
       "      <th>%.1</th>\n",
       "    </tr>\n",
       "  </thead>\n",
       "  <tbody>\n",
       "    <tr>\n",
       "      <th>0</th>\n",
       "      <td>0.441</td>\n",
       "      <td>0.559</td>\n",
       "    </tr>\n",
       "    <tr>\n",
       "      <th>1</th>\n",
       "      <td>0.422</td>\n",
       "      <td>0.578</td>\n",
       "    </tr>\n",
       "    <tr>\n",
       "      <th>2</th>\n",
       "      <td>0.343</td>\n",
       "      <td>0.657</td>\n",
       "    </tr>\n",
       "    <tr>\n",
       "      <th>3</th>\n",
       "      <td>0.425</td>\n",
       "      <td>0.575</td>\n",
       "    </tr>\n",
       "    <tr>\n",
       "      <th>4</th>\n",
       "      <td>0.207</td>\n",
       "      <td>0.793</td>\n",
       "    </tr>\n",
       "  </tbody>\n",
       "</table>\n",
       "</div>"
      ],
      "text/plain": [
       "       %    %.1\n",
       "0  0.441  0.559\n",
       "1  0.422  0.578\n",
       "2  0.343  0.657\n",
       "3  0.425  0.575\n",
       "4  0.207  0.793"
      ]
     },
     "execution_count": 60,
     "metadata": {},
     "output_type": "execute_result"
    }
   ],
   "source": [
    "# Convert '%' and '%.1' columns to float.\n",
    "\n",
    "worldwide_200['%'] = pd.to_numeric(worldwide_200['%'].str.replace('%', ''), errors='coerce') / 100\n",
    "worldwide_200['%.1'] = pd.to_numeric(worldwide_200['%.1'].str.replace('%', ''), errors='coerce') / 100\n",
    "\n",
    "worldwide_200[['%', '%.1']].head()"
   ]
  },
  {
   "cell_type": "code",
   "execution_count": 61,
   "id": "d57e6e93",
   "metadata": {},
   "outputs": [
    {
     "name": "stdout",
     "output_type": "stream",
     "text": [
      "<class 'pandas.core.frame.DataFrame'>\n",
      "RangeIndex: 200 entries, 0 to 199\n",
      "Data columns (total 7 columns):\n",
      " #   Column         Non-Null Count  Dtype  \n",
      "---  ------         --------------  -----  \n",
      " 0   Rank           200 non-null    int64  \n",
      " 1   Release Group  200 non-null    object \n",
      " 2   Worldwide      200 non-null    int64  \n",
      " 3   Domestic       122 non-null    float64\n",
      " 4   %              122 non-null    float64\n",
      " 5   Foreign        194 non-null    float64\n",
      " 6   %.1            194 non-null    float64\n",
      "dtypes: float64(4), int64(2), object(1)\n",
      "memory usage: 11.1+ KB\n"
     ]
    }
   ],
   "source": [
    "worldwide_200.info()"
   ]
  },
  {
   "cell_type": "code",
   "execution_count": 66,
   "id": "e419bf6a",
   "metadata": {},
   "outputs": [
    {
     "data": {
      "text/html": [
       "<div>\n",
       "<style scoped>\n",
       "    .dataframe tbody tr th:only-of-type {\n",
       "        vertical-align: middle;\n",
       "    }\n",
       "\n",
       "    .dataframe tbody tr th {\n",
       "        vertical-align: top;\n",
       "    }\n",
       "\n",
       "    .dataframe thead th {\n",
       "        text-align: right;\n",
       "    }\n",
       "</style>\n",
       "<table border=\"1\" class=\"dataframe\">\n",
       "  <thead>\n",
       "    <tr style=\"text-align: right;\">\n",
       "      <th></th>\n",
       "      <th>Rank</th>\n",
       "      <th>Release Group</th>\n",
       "      <th>Worldwide</th>\n",
       "      <th>Domestic</th>\n",
       "      <th>% of Total</th>\n",
       "      <th>Foreign</th>\n",
       "      <th>% of Total</th>\n",
       "    </tr>\n",
       "  </thead>\n",
       "  <tbody>\n",
       "    <tr>\n",
       "      <th>0</th>\n",
       "      <td>1</td>\n",
       "      <td>Barbie</td>\n",
       "      <td>1441820453</td>\n",
       "      <td>636220453.0</td>\n",
       "      <td>0.441</td>\n",
       "      <td>805600000.0</td>\n",
       "      <td>0.559</td>\n",
       "    </tr>\n",
       "    <tr>\n",
       "      <th>1</th>\n",
       "      <td>2</td>\n",
       "      <td>The Super Mario Bros. Movie</td>\n",
       "      <td>1361365341</td>\n",
       "      <td>574934330.0</td>\n",
       "      <td>0.422</td>\n",
       "      <td>786431011.0</td>\n",
       "      <td>0.578</td>\n",
       "    </tr>\n",
       "    <tr>\n",
       "      <th>2</th>\n",
       "      <td>3</td>\n",
       "      <td>Oppenheimer</td>\n",
       "      <td>952010450</td>\n",
       "      <td>326076450.0</td>\n",
       "      <td>0.343</td>\n",
       "      <td>625934000.0</td>\n",
       "      <td>0.657</td>\n",
       "    </tr>\n",
       "    <tr>\n",
       "      <th>3</th>\n",
       "      <td>4</td>\n",
       "      <td>Guardians of the Galaxy Vol. 3</td>\n",
       "      <td>845555777</td>\n",
       "      <td>358995815.0</td>\n",
       "      <td>0.425</td>\n",
       "      <td>486559962.0</td>\n",
       "      <td>0.575</td>\n",
       "    </tr>\n",
       "    <tr>\n",
       "      <th>4</th>\n",
       "      <td>5</td>\n",
       "      <td>Fast X</td>\n",
       "      <td>704875015</td>\n",
       "      <td>146126015.0</td>\n",
       "      <td>0.207</td>\n",
       "      <td>558749000.0</td>\n",
       "      <td>0.793</td>\n",
       "    </tr>\n",
       "  </tbody>\n",
       "</table>\n",
       "</div>"
      ],
      "text/plain": [
       "   Rank                   Release Group   Worldwide     Domestic  % of Total  \\\n",
       "0     1                          Barbie  1441820453  636220453.0       0.441   \n",
       "1     2     The Super Mario Bros. Movie  1361365341  574934330.0       0.422   \n",
       "2     3                     Oppenheimer   952010450  326076450.0       0.343   \n",
       "3     4  Guardians of the Galaxy Vol. 3   845555777  358995815.0       0.425   \n",
       "4     5                          Fast X   704875015  146126015.0       0.207   \n",
       "\n",
       "       Foreign  % of Total  \n",
       "0  805600000.0       0.559  \n",
       "1  786431011.0       0.578  \n",
       "2  625934000.0       0.657  \n",
       "3  486559962.0       0.575  \n",
       "4  558749000.0       0.793  "
      ]
     },
     "execution_count": 66,
     "metadata": {},
     "output_type": "execute_result"
    }
   ],
   "source": [
    "# Rename '%' and '%.1' columns\n",
    "\n",
    "worldwide_200.rename(columns={'%': '% of Total', '%.1': '% of Total'}, inplace=True)\n",
    "\n",
    "worldwide_200.head()"
   ]
  },
  {
   "cell_type": "code",
   "execution_count": 67,
   "id": "cb471921",
   "metadata": {},
   "outputs": [],
   "source": [
    "# Export DataFrame to a CSV file\n",
    "worldwide_200.to_csv('2023_worldwide_box_office_data.csv', index=False)"
   ]
  },
  {
   "cell_type": "code",
   "execution_count": null,
   "id": "c76cbfa5",
   "metadata": {},
   "outputs": [],
   "source": []
  },
  {
   "cell_type": "markdown",
   "id": "5b13ede1",
   "metadata": {},
   "source": [
    "Graphs"
   ]
  },
  {
   "cell_type": "code",
   "execution_count": 21,
   "id": "aacd364b",
   "metadata": {},
   "outputs": [
    {
     "data": {
      "text/html": [
       "<div>\n",
       "<style scoped>\n",
       "    .dataframe tbody tr th:only-of-type {\n",
       "        vertical-align: middle;\n",
       "    }\n",
       "\n",
       "    .dataframe tbody tr th {\n",
       "        vertical-align: top;\n",
       "    }\n",
       "\n",
       "    .dataframe thead th {\n",
       "        text-align: right;\n",
       "    }\n",
       "</style>\n",
       "<table border=\"1\" class=\"dataframe\">\n",
       "  <thead>\n",
       "    <tr style=\"text-align: right;\">\n",
       "      <th></th>\n",
       "      <th>Rank</th>\n",
       "      <th>Release Group</th>\n",
       "      <th>Worldwide</th>\n",
       "      <th>Domestic</th>\n",
       "      <th>% of Total</th>\n",
       "      <th>Foreign</th>\n",
       "      <th>% of Total.1</th>\n",
       "    </tr>\n",
       "  </thead>\n",
       "  <tbody>\n",
       "    <tr>\n",
       "      <th>0</th>\n",
       "      <td>1</td>\n",
       "      <td>Barbie</td>\n",
       "      <td>1441820453</td>\n",
       "      <td>636220453.0</td>\n",
       "      <td>0.441</td>\n",
       "      <td>805600000.0</td>\n",
       "      <td>0.559</td>\n",
       "    </tr>\n",
       "    <tr>\n",
       "      <th>1</th>\n",
       "      <td>2</td>\n",
       "      <td>The Super Mario Bros. Movie</td>\n",
       "      <td>1361365341</td>\n",
       "      <td>574934330.0</td>\n",
       "      <td>0.422</td>\n",
       "      <td>786431011.0</td>\n",
       "      <td>0.578</td>\n",
       "    </tr>\n",
       "    <tr>\n",
       "      <th>2</th>\n",
       "      <td>3</td>\n",
       "      <td>Oppenheimer</td>\n",
       "      <td>952010450</td>\n",
       "      <td>326076450.0</td>\n",
       "      <td>0.343</td>\n",
       "      <td>625934000.0</td>\n",
       "      <td>0.657</td>\n",
       "    </tr>\n",
       "    <tr>\n",
       "      <th>3</th>\n",
       "      <td>4</td>\n",
       "      <td>Guardians of the Galaxy Vol. 3</td>\n",
       "      <td>845555777</td>\n",
       "      <td>358995815.0</td>\n",
       "      <td>0.425</td>\n",
       "      <td>486559962.0</td>\n",
       "      <td>0.575</td>\n",
       "    </tr>\n",
       "    <tr>\n",
       "      <th>4</th>\n",
       "      <td>5</td>\n",
       "      <td>Fast X</td>\n",
       "      <td>704875015</td>\n",
       "      <td>146126015.0</td>\n",
       "      <td>0.207</td>\n",
       "      <td>558749000.0</td>\n",
       "      <td>0.793</td>\n",
       "    </tr>\n",
       "  </tbody>\n",
       "</table>\n",
       "</div>"
      ],
      "text/plain": [
       "   Rank                   Release Group   Worldwide     Domestic  % of Total  \\\n",
       "0     1                          Barbie  1441820453  636220453.0       0.441   \n",
       "1     2     The Super Mario Bros. Movie  1361365341  574934330.0       0.422   \n",
       "2     3                     Oppenheimer   952010450  326076450.0       0.343   \n",
       "3     4  Guardians of the Galaxy Vol. 3   845555777  358995815.0       0.425   \n",
       "4     5                          Fast X   704875015  146126015.0       0.207   \n",
       "\n",
       "       Foreign  % of Total.1  \n",
       "0  805600000.0         0.559  \n",
       "1  786431011.0         0.578  \n",
       "2  625934000.0         0.657  \n",
       "3  486559962.0         0.575  \n",
       "4  558749000.0         0.793  "
      ]
     },
     "execution_count": 21,
     "metadata": {},
     "output_type": "execute_result"
    }
   ],
   "source": [
    "# Dependencies and Setup\n",
    "import pandas as pd \n",
    "from pathlib import Path\n",
    "import warnings\n",
    "import seaborn as sns\n",
    "import numpy as np\n",
    "import matplotlib.pyplot as plt\n",
    "\n",
    "# Import CSV file using Pandas\n",
    "worldwide_df = pd.read_csv('2023_worldwide_box_office_data.csv')\n",
    "worldwide_df.head()"
   ]
  },
  {
   "cell_type": "code",
   "execution_count": 17,
   "id": "722db22c",
   "metadata": {},
   "outputs": [
    {
     "data": {
      "image/png": "[encoded data removed]",
      "text/plain": [
       "<Figure size 1000x600 with 1 Axes>"
      ]
     },
     "metadata": {},
     "output_type": "display_data"
    }
   ],
   "source": [
    "# Melt the wide-form dataset into long-form\n",
    "melted_df = pd.melt(worldwide_df, id_vars=['Rank'], value_vars=['Worldwide', 'Domestic', 'Foreign'],\n",
    "                    var_name='Category', value_name='Box Office')\n",
    "\n",
    "# Create a violin plot\n",
    "sns.set(style=\"whitegrid\")\n",
    "plt.figure(figsize=(10, 6))\n",
    "\n",
    "sns.violinplot(x='Category', y='Box Office', data=melted_df)\n",
    "\n",
    "# Add labels and title\n",
    "plt.xlabel('Category')\n",
    "plt.ylabel('Box Office')\n",
    "plt.title('Violin Plot of Box Office Data')\n",
    "\n",
    "# Show the plot\n",
    "plt.show()"
   ]
  },
  {
   "cell_type": "code",
   "execution_count": 45,
   "id": "839163c9",
   "metadata": {},
   "outputs": [
    {
     "data": {
      "image/png": "[encoded data removed]",
      "text/plain": [
       "<Figure size 1500x1500 with 1 Axes>"
      ]
     },
     "metadata": {},
     "output_type": "display_data"
    }
   ],
   "source": [
    "import seaborn as sns\n",
    "import matplotlib.pyplot as plt\n",
    "sns.set_theme(style=\"whitegrid\")\n",
    "\n",
    "# Initialize the matplotlib figure\n",
    "f, ax = plt.subplots(figsize=(15, 15))\n",
    "\n",
    "# Plot the total crashes\n",
    "sns.set_color_codes(\"pastel\")\n",
    "sns.barplot(x=\"Rank\", y=\"Worldwide\", data=worldwide_df,\n",
    "            label=\"Worldwide Total\", color=\"b\")\n",
    "\n",
    "# Plot the crashes where alcohol was involved\n",
    "sns.set_color_codes(\"muted\")\n",
    "sns.barplot(x=\"Rank\", y=\"Domestic\", data=worldwide_df,\n",
    "            label=\"Domestic Total\", color=\"b\")\n",
    "\n",
    "# Add a legend and informative axis label\n",
    "ax.legend(ncol=2, loc=\"lower right\", frameon=True)\n",
    "ax.set(xlim=(0,19), ylabel=\"Billion USD\",\n",
    "       xlabel=\"2023_worldwide_box_office\")\n",
    "sns.despine(left=True, bottom=True)"
   ]
  },
  {
   "cell_type": "code",
   "execution_count": null,
   "id": "12c18541",
   "metadata": {},
   "outputs": [],
   "source": []
  }
 ],
 "metadata": {
  "kernelspec": {
   "display_name": "dev",
   "language": "python",
   "name": "dev"
  },
  "language_info": {
   "codemirror_mode": {
    "name": "ipython",
    "version": 3
   },
   "file_extension": ".py",
   "mimetype": "text/x-python",
   "name": "python",
   "nbconvert_exporter": "python",
   "pygments_lexer": "ipython3",
   "version": "3.11.4"
  }
 },
 "nbformat": 4,
 "nbformat_minor": 5
}
